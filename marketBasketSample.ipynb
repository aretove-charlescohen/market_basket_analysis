{
 "cells": [
  {
   "cell_type": "code",
   "execution_count": 2,
   "id": "28b174e4-8ca8-46e8-8f1a-477299ab6907",
   "metadata": {},
   "outputs": [],
   "source": [
    "import pandas as pd\n",
    "import numpy as np\n",
    "import matplotlib as plt\n",
    "from mlxtend.frequent_patterns import apriori, association_rules"
   ]
  },
  {
   "cell_type": "code",
   "execution_count": 3,
   "id": "c5914858-b81a-4011-b97d-8808a064aff8",
   "metadata": {},
   "outputs": [],
   "source": [
    "retail = pd.read_excel('retail.xlsx')"
   ]
  },
  {
   "cell_type": "code",
   "execution_count": 4,
   "id": "85e52d32-035d-4dc1-a9dd-e59278155398",
   "metadata": {},
   "outputs": [],
   "source": [
    "retail = retail[:10000]"
   ]
  },
  {
   "cell_type": "code",
   "execution_count": 5,
   "id": "20f7365d-4167-44d6-a5e5-bd02c683544b",
   "metadata": {},
   "outputs": [],
   "source": [
    "retail['Hour'] = retail['InvoiceDate'].dt.strftime('%H').astype(int)"
   ]
  },
  {
   "cell_type": "code",
   "execution_count": 6,
   "id": "939e34c2-7971-4140-8013-c1f98de23f78",
   "metadata": {},
   "outputs": [
    {
     "data": {
      "text/plain": [
       "count    10000.000000\n",
       "mean        13.081000\n",
       "std          2.310016\n",
       "min          7.000000\n",
       "25%         11.000000\n",
       "50%         13.000000\n",
       "75%         15.000000\n",
       "max         19.000000\n",
       "Name: Hour, dtype: float64"
      ]
     },
     "execution_count": 6,
     "metadata": {},
     "output_type": "execute_result"
    }
   ],
   "source": [
    "retail['Hour'].describe()"
   ]
  },
  {
   "cell_type": "code",
   "execution_count": 7,
   "id": "d6456be7-6a05-49a1-accb-72be707fcc07",
   "metadata": {},
   "outputs": [
    {
     "data": {
      "text/plain": [
       "array([[<AxesSubplot:title={'center':'Hour'}>]], dtype=object)"
      ]
     },
     "execution_count": 7,
     "metadata": {},
     "output_type": "execute_result"
    },
    {
     "data": {
      "image/png": "[encoded data removed]",
      "text/plain": [
       "<Figure size 432x288 with 1 Axes>"
      ]
     },
     "metadata": {
      "needs_background": "light"
     },
     "output_type": "display_data"
    }
   ],
   "source": [
    "retail['Quantity'] = retail['Quantity'].astype(int)\n",
    "retail.hist(column = 'Hour', bins = np.arange(0,24) + 0.5)"
   ]
  },
  {
   "cell_type": "code",
   "execution_count": 8,
   "id": "ea23d38e-3df2-400b-a396-f2c8dcee40fe",
   "metadata": {},
   "outputs": [],
   "source": [
    "combined_retail = retail.groupby(['InvoiceNo']).mean()"
   ]
  },
  {
   "cell_type": "code",
   "execution_count": 9,
   "id": "a4434d4c-9aa4-4180-804a-363d79d40792",
   "metadata": {},
   "outputs": [
    {
     "data": {
      "text/plain": [
       "array([[<AxesSubplot:title={'center':'Quantity'}>]], dtype=object)"
      ]
     },
     "execution_count": 9,
     "metadata": {},
     "output_type": "execute_result"
    },
    {
     "data": {
      "image/png": "[encoded data removed]",
      "text/plain": [
       "<Figure size 432x288 with 1 Axes>"
      ]
     },
     "metadata": {
      "needs_background": "light"
     },
     "output_type": "display_data"
    }
   ],
   "source": [
    "combined_retail.hist(column = 'Quantity', bins = np.arange(0,99) + 0.5)"
   ]
  },
  {
   "cell_type": "code",
   "execution_count": 10,
   "id": "7d38fa00-9b09-4890-855f-b5e4f3eb15aa",
   "metadata": {},
   "outputs": [
    {
     "data": {
      "text/html": [
       "<div>\n",
       "<style scoped>\n",
       "    .dataframe tbody tr th:only-of-type {\n",
       "        vertical-align: middle;\n",
       "    }\n",
       "\n",
       "    .dataframe tbody tr th {\n",
       "        vertical-align: top;\n",
       "    }\n",
       "\n",
       "    .dataframe thead th {\n",
       "        text-align: right;\n",
       "    }\n",
       "</style>\n",
       "<table border=\"1\" class=\"dataframe\">\n",
       "  <thead>\n",
       "    <tr style=\"text-align: right;\">\n",
       "      <th></th>\n",
       "      <th>Quantity</th>\n",
       "      <th>UnitPrice</th>\n",
       "      <th>CustomerID</th>\n",
       "      <th>Hour</th>\n",
       "    </tr>\n",
       "    <tr>\n",
       "      <th>InvoiceNo</th>\n",
       "      <th></th>\n",
       "      <th></th>\n",
       "      <th></th>\n",
       "      <th></th>\n",
       "    </tr>\n",
       "  </thead>\n",
       "  <tbody>\n",
       "    <tr>\n",
       "      <th>536365</th>\n",
       "      <td>5.714286</td>\n",
       "      <td>3.910000</td>\n",
       "      <td>17850.0</td>\n",
       "      <td>8.0</td>\n",
       "    </tr>\n",
       "    <tr>\n",
       "      <th>536366</th>\n",
       "      <td>6.000000</td>\n",
       "      <td>1.850000</td>\n",
       "      <td>17850.0</td>\n",
       "      <td>8.0</td>\n",
       "    </tr>\n",
       "    <tr>\n",
       "      <th>536367</th>\n",
       "      <td>6.916667</td>\n",
       "      <td>4.853333</td>\n",
       "      <td>13047.0</td>\n",
       "      <td>8.0</td>\n",
       "    </tr>\n",
       "    <tr>\n",
       "      <th>536368</th>\n",
       "      <td>3.750000</td>\n",
       "      <td>4.775000</td>\n",
       "      <td>13047.0</td>\n",
       "      <td>8.0</td>\n",
       "    </tr>\n",
       "    <tr>\n",
       "      <th>536369</th>\n",
       "      <td>3.000000</td>\n",
       "      <td>5.950000</td>\n",
       "      <td>13047.0</td>\n",
       "      <td>8.0</td>\n",
       "    </tr>\n",
       "  </tbody>\n",
       "</table>\n",
       "</div>"
      ],
      "text/plain": [
       "           Quantity  UnitPrice  CustomerID  Hour\n",
       "InvoiceNo                                       \n",
       "536365     5.714286   3.910000     17850.0   8.0\n",
       "536366     6.000000   1.850000     17850.0   8.0\n",
       "536367     6.916667   4.853333     13047.0   8.0\n",
       "536368     3.750000   4.775000     13047.0   8.0\n",
       "536369     3.000000   5.950000     13047.0   8.0"
      ]
     },
     "execution_count": 10,
     "metadata": {},
     "output_type": "execute_result"
    }
   ],
   "source": [
    "combined_retail.head()"
   ]
  },
  {
   "cell_type": "code",
   "execution_count": 11,
   "id": "30f9f1ee-5754-4e4c-b3ba-be7d62062f63",
   "metadata": {},
   "outputs": [
    {
     "data": {
      "text/html": [
       "<div>\n",
       "<style scoped>\n",
       "    .dataframe tbody tr th:only-of-type {\n",
       "        vertical-align: middle;\n",
       "    }\n",
       "\n",
       "    .dataframe tbody tr th {\n",
       "        vertical-align: top;\n",
       "    }\n",
       "\n",
       "    .dataframe thead th {\n",
       "        text-align: right;\n",
       "    }\n",
       "</style>\n",
       "<table border=\"1\" class=\"dataframe\">\n",
       "  <thead>\n",
       "    <tr style=\"text-align: right;\">\n",
       "      <th></th>\n",
       "      <th>Quantity</th>\n",
       "      <th>UnitPrice</th>\n",
       "      <th>CustomerID</th>\n",
       "      <th>Hour</th>\n",
       "    </tr>\n",
       "  </thead>\n",
       "  <tbody>\n",
       "    <tr>\n",
       "      <th>count</th>\n",
       "      <td>512.000000</td>\n",
       "      <td>512.000000</td>\n",
       "      <td>444.000000</td>\n",
       "      <td>512.000000</td>\n",
       "    </tr>\n",
       "    <tr>\n",
       "      <th>mean</th>\n",
       "      <td>4.416784</td>\n",
       "      <td>3.964822</td>\n",
       "      <td>15556.576577</td>\n",
       "      <td>13.046875</td>\n",
       "    </tr>\n",
       "    <tr>\n",
       "      <th>std</th>\n",
       "      <td>435.319911</td>\n",
       "      <td>13.233141</td>\n",
       "      <td>1780.641407</td>\n",
       "      <td>2.516044</td>\n",
       "    </tr>\n",
       "    <tr>\n",
       "      <th>min</th>\n",
       "      <td>-9360.000000</td>\n",
       "      <td>0.000000</td>\n",
       "      <td>12395.000000</td>\n",
       "      <td>7.000000</td>\n",
       "    </tr>\n",
       "    <tr>\n",
       "      <th>25%</th>\n",
       "      <td>2.045238</td>\n",
       "      <td>1.849700</td>\n",
       "      <td>14073.500000</td>\n",
       "      <td>11.000000</td>\n",
       "    </tr>\n",
       "    <tr>\n",
       "      <th>50%</th>\n",
       "      <td>6.190909</td>\n",
       "      <td>2.850000</td>\n",
       "      <td>15550.000000</td>\n",
       "      <td>13.000000</td>\n",
       "    </tr>\n",
       "    <tr>\n",
       "      <th>75%</th>\n",
       "      <td>13.660294</td>\n",
       "      <td>4.219100</td>\n",
       "      <td>17353.750000</td>\n",
       "      <td>15.000000</td>\n",
       "    </tr>\n",
       "    <tr>\n",
       "      <th>max</th>\n",
       "      <td>2140.000000</td>\n",
       "      <td>295.000000</td>\n",
       "      <td>18239.000000</td>\n",
       "      <td>19.000000</td>\n",
       "    </tr>\n",
       "  </tbody>\n",
       "</table>\n",
       "</div>"
      ],
      "text/plain": [
       "          Quantity   UnitPrice    CustomerID        Hour\n",
       "count   512.000000  512.000000    444.000000  512.000000\n",
       "mean      4.416784    3.964822  15556.576577   13.046875\n",
       "std     435.319911   13.233141   1780.641407    2.516044\n",
       "min   -9360.000000    0.000000  12395.000000    7.000000\n",
       "25%       2.045238    1.849700  14073.500000   11.000000\n",
       "50%       6.190909    2.850000  15550.000000   13.000000\n",
       "75%      13.660294    4.219100  17353.750000   15.000000\n",
       "max    2140.000000  295.000000  18239.000000   19.000000"
      ]
     },
     "execution_count": 11,
     "metadata": {},
     "output_type": "execute_result"
    }
   ],
   "source": [
    "combined_retail.describe()"
   ]
  },
  {
   "cell_type": "code",
   "execution_count": 12,
   "id": "c791cc28-a39c-4bb2-a422-13a49f630a7a",
   "metadata": {},
   "outputs": [
    {
     "data": {
      "text/html": [
       "<div>\n",
       "<style scoped>\n",
       "    .dataframe tbody tr th:only-of-type {\n",
       "        vertical-align: middle;\n",
       "    }\n",
       "\n",
       "    .dataframe tbody tr th {\n",
       "        vertical-align: top;\n",
       "    }\n",
       "\n",
       "    .dataframe thead th {\n",
       "        text-align: right;\n",
       "    }\n",
       "</style>\n",
       "<table border=\"1\" class=\"dataframe\">\n",
       "  <thead>\n",
       "    <tr style=\"text-align: right;\">\n",
       "      <th></th>\n",
       "      <th>Quantity</th>\n",
       "      <th>UnitPrice</th>\n",
       "      <th>CustomerID</th>\n",
       "      <th>Hour</th>\n",
       "    </tr>\n",
       "  </thead>\n",
       "  <tbody>\n",
       "    <tr>\n",
       "      <th>count</th>\n",
       "      <td>10000.000000</td>\n",
       "      <td>10000.000000</td>\n",
       "      <td>7709.000000</td>\n",
       "      <td>10000.000000</td>\n",
       "    </tr>\n",
       "    <tr>\n",
       "      <th>mean</th>\n",
       "      <td>7.828600</td>\n",
       "      <td>3.837412</td>\n",
       "      <td>15615.462576</td>\n",
       "      <td>13.081000</td>\n",
       "    </tr>\n",
       "    <tr>\n",
       "      <th>std</th>\n",
       "      <td>104.322417</td>\n",
       "      <td>14.310148</td>\n",
       "      <td>1756.540802</td>\n",
       "      <td>2.310016</td>\n",
       "    </tr>\n",
       "    <tr>\n",
       "      <th>min</th>\n",
       "      <td>-9360.000000</td>\n",
       "      <td>0.000000</td>\n",
       "      <td>12395.000000</td>\n",
       "      <td>7.000000</td>\n",
       "    </tr>\n",
       "    <tr>\n",
       "      <th>25%</th>\n",
       "      <td>1.000000</td>\n",
       "      <td>1.250000</td>\n",
       "      <td>14388.000000</td>\n",
       "      <td>11.000000</td>\n",
       "    </tr>\n",
       "    <tr>\n",
       "      <th>50%</th>\n",
       "      <td>2.000000</td>\n",
       "      <td>2.510000</td>\n",
       "      <td>15605.000000</td>\n",
       "      <td>13.000000</td>\n",
       "    </tr>\n",
       "    <tr>\n",
       "      <th>75%</th>\n",
       "      <td>8.000000</td>\n",
       "      <td>4.210000</td>\n",
       "      <td>17228.000000</td>\n",
       "      <td>15.000000</td>\n",
       "    </tr>\n",
       "    <tr>\n",
       "      <th>max</th>\n",
       "      <td>2880.000000</td>\n",
       "      <td>887.520000</td>\n",
       "      <td>18239.000000</td>\n",
       "      <td>19.000000</td>\n",
       "    </tr>\n",
       "  </tbody>\n",
       "</table>\n",
       "</div>"
      ],
      "text/plain": [
       "           Quantity     UnitPrice    CustomerID          Hour\n",
       "count  10000.000000  10000.000000   7709.000000  10000.000000\n",
       "mean       7.828600      3.837412  15615.462576     13.081000\n",
       "std      104.322417     14.310148   1756.540802      2.310016\n",
       "min    -9360.000000      0.000000  12395.000000      7.000000\n",
       "25%        1.000000      1.250000  14388.000000     11.000000\n",
       "50%        2.000000      2.510000  15605.000000     13.000000\n",
       "75%        8.000000      4.210000  17228.000000     15.000000\n",
       "max     2880.000000    887.520000  18239.000000     19.000000"
      ]
     },
     "execution_count": 12,
     "metadata": {},
     "output_type": "execute_result"
    }
   ],
   "source": [
    "retail.describe()"
   ]
  },
  {
   "cell_type": "code",
   "execution_count": 13,
   "id": "47973c6a-0939-4dd7-8e1d-a065ca46a025",
   "metadata": {},
   "outputs": [],
   "source": [
    "total_retail = retail.groupby(['StockCode']).sum()"
   ]
  },
  {
   "cell_type": "code",
   "execution_count": 14,
   "id": "c88fe072-8c69-4875-9fbc-cbbdf0196a2b",
   "metadata": {},
   "outputs": [],
   "source": [
    "# Method #1: MLxtend\n",
    "basket = (retail.groupby(['InvoiceNo', 'Description'])['Quantity'].sum().unstack().reset_index().fillna(0).set_index('InvoiceNo'))"
   ]
  },
  {
   "cell_type": "code",
   "execution_count": 15,
   "id": "00850da7-8ce4-4224-bb1e-f7e5ee717248",
   "metadata": {},
   "outputs": [],
   "source": [
    "def encode_units(x):\n",
    "    if x <= 0:\n",
    "        return 0\n",
    "    if x >= 1:\n",
    "        return 1"
   ]
  },
  {
   "cell_type": "code",
   "execution_count": 16,
   "id": "9c1be7bf-cc48-4730-9efd-13302f049a07",
   "metadata": {},
   "outputs": [],
   "source": [
    "basket_sets = basket.applymap(encode_units)\n",
    "#basket_sets.drop('POSTAGE', inplace=True, axis=1)"
   ]
  },
  {
   "cell_type": "code",
   "execution_count": 17,
   "id": "638ed905-d6aa-494f-bc0e-752084b120e6",
   "metadata": {},
   "outputs": [
    {
     "data": {
      "text/plain": [
       "Description\n",
       " 4 PURPLE FLOCK DINNER CANDLES        2\n",
       " OVAL WALL MIRROR DIAMANTE            1\n",
       " SET 2 TEA TOWELS I LOVE LONDON      17\n",
       "10 COLOUR SPACEBOY PEN               13\n",
       "12 COLOURED PARTY BALLOONS            3\n",
       "                                     ..\n",
       "ZINC FOLKART SLEIGH BELLS             1\n",
       "ZINC HEART LATTICE T-LIGHT HOLDER     2\n",
       "ZINC METAL HEART DECORATION          13\n",
       "ZINC WILLIE WINKIE  CANDLE STICK      8\n",
       "amazon                                2\n",
       "Length: 1981, dtype: int64"
      ]
     },
     "execution_count": 17,
     "metadata": {},
     "output_type": "execute_result"
    }
   ],
   "source": [
    "basket_sets.sum()"
   ]
  },
  {
   "cell_type": "code",
   "execution_count": null,
   "id": "264a298c-e783-4730-aa5a-0f5894e3f70f",
   "metadata": {},
   "outputs": [],
   "source": []
  },
  {
   "cell_type": "code",
   "execution_count": 18,
   "id": "ac1d3bfe-c513-4890-ad66-13efa5006912",
   "metadata": {},
   "outputs": [],
   "source": [
    "frequent_itemsets = apriori(basket_sets, min_support=0.02, use_colnames=True, max_len=3, low_memory = True)"
   ]
  },
  {
   "cell_type": "code",
   "execution_count": 19,
   "id": "b10994cb-0885-4e30-86dc-88a87cdd50b1",
   "metadata": {},
   "outputs": [],
   "source": [
    "rules = association_rules(frequent_itemsets, metric=\"confidence\", min_threshold=0.8)"
   ]
  },
  {
   "cell_type": "code",
   "execution_count": 20,
   "id": "dfc0f746-6294-4c01-9776-87833c3ffd1c",
   "metadata": {},
   "outputs": [
    {
     "data": {
      "text/html": [
       "<div>\n",
       "<style scoped>\n",
       "    .dataframe tbody tr th:only-of-type {\n",
       "        vertical-align: middle;\n",
       "    }\n",
       "\n",
       "    .dataframe tbody tr th {\n",
       "        vertical-align: top;\n",
       "    }\n",
       "\n",
       "    .dataframe thead th {\n",
       "        text-align: right;\n",
       "    }\n",
       "</style>\n",
       "<table border=\"1\" class=\"dataframe\">\n",
       "  <thead>\n",
       "    <tr style=\"text-align: right;\">\n",
       "      <th></th>\n",
       "      <th>antecedents</th>\n",
       "      <th>consequents</th>\n",
       "      <th>antecedent support</th>\n",
       "      <th>consequent support</th>\n",
       "      <th>support</th>\n",
       "      <th>confidence</th>\n",
       "      <th>lift</th>\n",
       "      <th>leverage</th>\n",
       "      <th>conviction</th>\n",
       "    </tr>\n",
       "  </thead>\n",
       "  <tbody>\n",
       "    <tr>\n",
       "      <th>952</th>\n",
       "      <td>(SAVE THE PLANET MUG, WOODEN FRAME ANTIQUE WHI...</td>\n",
       "      <td>(RETRO COFFEE MUGS ASSORTED)</td>\n",
       "      <td>0.029787</td>\n",
       "      <td>0.057447</td>\n",
       "      <td>0.029787</td>\n",
       "      <td>1.0</td>\n",
       "      <td>17.407407</td>\n",
       "      <td>0.028076</td>\n",
       "      <td>inf</td>\n",
       "    </tr>\n",
       "    <tr>\n",
       "      <th>1225</th>\n",
       "      <td>(VINTAGE BILLBOARD LOVE/HATE MUG, WHITE HANGIN...</td>\n",
       "      <td>(VINTAGE BILLBOARD DRINK ME MUG)</td>\n",
       "      <td>0.034043</td>\n",
       "      <td>0.046809</td>\n",
       "      <td>0.034043</td>\n",
       "      <td>1.0</td>\n",
       "      <td>21.363636</td>\n",
       "      <td>0.032449</td>\n",
       "      <td>inf</td>\n",
       "    </tr>\n",
       "    <tr>\n",
       "      <th>1216</th>\n",
       "      <td>(SET 7 BABUSHKA NESTING BOXES, WOOD S/3 CABINE...</td>\n",
       "      <td>(WOODEN FRAME ANTIQUE WHITE )</td>\n",
       "      <td>0.027660</td>\n",
       "      <td>0.061702</td>\n",
       "      <td>0.027660</td>\n",
       "      <td>1.0</td>\n",
       "      <td>16.206897</td>\n",
       "      <td>0.025953</td>\n",
       "      <td>inf</td>\n",
       "    </tr>\n",
       "    <tr>\n",
       "      <th>343</th>\n",
       "      <td>(RETRO COFFEE MUGS ASSORTED, GLASS STAR FROSTE...</td>\n",
       "      <td>(RED WOOLLY HOTTIE WHITE HEART.)</td>\n",
       "      <td>0.031915</td>\n",
       "      <td>0.089362</td>\n",
       "      <td>0.031915</td>\n",
       "      <td>1.0</td>\n",
       "      <td>11.190476</td>\n",
       "      <td>0.029063</td>\n",
       "      <td>inf</td>\n",
       "    </tr>\n",
       "    <tr>\n",
       "      <th>1092</th>\n",
       "      <td>(SAVE THE PLANET MUG, WOOD S/3 CABINET ANT WHI...</td>\n",
       "      <td>(VINTAGE BILLBOARD DRINK ME MUG)</td>\n",
       "      <td>0.025532</td>\n",
       "      <td>0.046809</td>\n",
       "      <td>0.025532</td>\n",
       "      <td>1.0</td>\n",
       "      <td>21.363636</td>\n",
       "      <td>0.024337</td>\n",
       "      <td>inf</td>\n",
       "    </tr>\n",
       "    <tr>\n",
       "      <th>...</th>\n",
       "      <td>...</td>\n",
       "      <td>...</td>\n",
       "      <td>...</td>\n",
       "      <td>...</td>\n",
       "      <td>...</td>\n",
       "      <td>...</td>\n",
       "      <td>...</td>\n",
       "      <td>...</td>\n",
       "      <td>...</td>\n",
       "    </tr>\n",
       "    <tr>\n",
       "      <th>1230</th>\n",
       "      <td>(WHITE METAL LANTERN)</td>\n",
       "      <td>(VINTAGE BILLBOARD DRINK ME MUG, VINTAGE BILLB...</td>\n",
       "      <td>0.042553</td>\n",
       "      <td>0.036170</td>\n",
       "      <td>0.034043</td>\n",
       "      <td>0.8</td>\n",
       "      <td>22.117647</td>\n",
       "      <td>0.032503</td>\n",
       "      <td>4.819149</td>\n",
       "    </tr>\n",
       "    <tr>\n",
       "      <th>784</th>\n",
       "      <td>(SAVE THE PLANET MUG)</td>\n",
       "      <td>(RED WOOLLY HOTTIE WHITE HEART., RETRO COFFEE ...</td>\n",
       "      <td>0.042553</td>\n",
       "      <td>0.042553</td>\n",
       "      <td>0.034043</td>\n",
       "      <td>0.8</td>\n",
       "      <td>18.800000</td>\n",
       "      <td>0.032232</td>\n",
       "      <td>4.787234</td>\n",
       "    </tr>\n",
       "    <tr>\n",
       "      <th>173</th>\n",
       "      <td>(SET 7 BABUSHKA NESTING BOXES, CREAM CUPID HEA...</td>\n",
       "      <td>(SAVE THE PLANET MUG)</td>\n",
       "      <td>0.031915</td>\n",
       "      <td>0.042553</td>\n",
       "      <td>0.025532</td>\n",
       "      <td>0.8</td>\n",
       "      <td>18.800000</td>\n",
       "      <td>0.024174</td>\n",
       "      <td>4.787234</td>\n",
       "    </tr>\n",
       "    <tr>\n",
       "      <th>1343</th>\n",
       "      <td>(WOODEN PICTURE FRAME WHITE FINISH, WHITE HANG...</td>\n",
       "      <td>(WOOD S/3 CABINET ANT WHITE FINISH)</td>\n",
       "      <td>0.042553</td>\n",
       "      <td>0.044681</td>\n",
       "      <td>0.034043</td>\n",
       "      <td>0.8</td>\n",
       "      <td>17.904762</td>\n",
       "      <td>0.032141</td>\n",
       "      <td>4.776596</td>\n",
       "    </tr>\n",
       "    <tr>\n",
       "      <th>783</th>\n",
       "      <td>(RED WOOLLY HOTTIE WHITE HEART., RETRO COFFEE ...</td>\n",
       "      <td>(SAVE THE PLANET MUG)</td>\n",
       "      <td>0.042553</td>\n",
       "      <td>0.042553</td>\n",
       "      <td>0.034043</td>\n",
       "      <td>0.8</td>\n",
       "      <td>18.800000</td>\n",
       "      <td>0.032232</td>\n",
       "      <td>4.787234</td>\n",
       "    </tr>\n",
       "  </tbody>\n",
       "</table>\n",
       "<p>1377 rows × 9 columns</p>\n",
       "</div>"
      ],
      "text/plain": [
       "                                            antecedents  \\\n",
       "952   (SAVE THE PLANET MUG, WOODEN FRAME ANTIQUE WHI...   \n",
       "1225  (VINTAGE BILLBOARD LOVE/HATE MUG, WHITE HANGIN...   \n",
       "1216  (SET 7 BABUSHKA NESTING BOXES, WOOD S/3 CABINE...   \n",
       "343   (RETRO COFFEE MUGS ASSORTED, GLASS STAR FROSTE...   \n",
       "1092  (SAVE THE PLANET MUG, WOOD S/3 CABINET ANT WHI...   \n",
       "...                                                 ...   \n",
       "1230                              (WHITE METAL LANTERN)   \n",
       "784                               (SAVE THE PLANET MUG)   \n",
       "173   (SET 7 BABUSHKA NESTING BOXES, CREAM CUPID HEA...   \n",
       "1343  (WOODEN PICTURE FRAME WHITE FINISH, WHITE HANG...   \n",
       "783   (RED WOOLLY HOTTIE WHITE HEART., RETRO COFFEE ...   \n",
       "\n",
       "                                            consequents  antecedent support  \\\n",
       "952                        (RETRO COFFEE MUGS ASSORTED)            0.029787   \n",
       "1225                   (VINTAGE BILLBOARD DRINK ME MUG)            0.034043   \n",
       "1216                      (WOODEN FRAME ANTIQUE WHITE )            0.027660   \n",
       "343                    (RED WOOLLY HOTTIE WHITE HEART.)            0.031915   \n",
       "1092                   (VINTAGE BILLBOARD DRINK ME MUG)            0.025532   \n",
       "...                                                 ...                 ...   \n",
       "1230  (VINTAGE BILLBOARD DRINK ME MUG, VINTAGE BILLB...            0.042553   \n",
       "784   (RED WOOLLY HOTTIE WHITE HEART., RETRO COFFEE ...            0.042553   \n",
       "173                               (SAVE THE PLANET MUG)            0.031915   \n",
       "1343                (WOOD S/3 CABINET ANT WHITE FINISH)            0.042553   \n",
       "783                               (SAVE THE PLANET MUG)            0.042553   \n",
       "\n",
       "      consequent support   support  confidence       lift  leverage  \\\n",
       "952             0.057447  0.029787         1.0  17.407407  0.028076   \n",
       "1225            0.046809  0.034043         1.0  21.363636  0.032449   \n",
       "1216            0.061702  0.027660         1.0  16.206897  0.025953   \n",
       "343             0.089362  0.031915         1.0  11.190476  0.029063   \n",
       "1092            0.046809  0.025532         1.0  21.363636  0.024337   \n",
       "...                  ...       ...         ...        ...       ...   \n",
       "1230            0.036170  0.034043         0.8  22.117647  0.032503   \n",
       "784             0.042553  0.034043         0.8  18.800000  0.032232   \n",
       "173             0.042553  0.025532         0.8  18.800000  0.024174   \n",
       "1343            0.044681  0.034043         0.8  17.904762  0.032141   \n",
       "783             0.042553  0.034043         0.8  18.800000  0.032232   \n",
       "\n",
       "      conviction  \n",
       "952          inf  \n",
       "1225         inf  \n",
       "1216         inf  \n",
       "343          inf  \n",
       "1092         inf  \n",
       "...          ...  \n",
       "1230    4.819149  \n",
       "784     4.787234  \n",
       "173     4.787234  \n",
       "1343    4.776596  \n",
       "783     4.787234  \n",
       "\n",
       "[1377 rows x 9 columns]"
      ]
     },
     "execution_count": 20,
     "metadata": {},
     "output_type": "execute_result"
    }
   ],
   "source": [
    "rules.sort_values('confidence', ascending = False)"
   ]
  },
  {
   "cell_type": "code",
   "execution_count": 20,
   "id": "4286c56a-7716-4354-8225-653de7000259",
   "metadata": {},
   "outputs": [
    {
     "data": {
      "text/html": [
       "<div>\n",
       "<style scoped>\n",
       "    .dataframe tbody tr th:only-of-type {\n",
       "        vertical-align: middle;\n",
       "    }\n",
       "\n",
       "    .dataframe tbody tr th {\n",
       "        vertical-align: top;\n",
       "    }\n",
       "\n",
       "    .dataframe thead th {\n",
       "        text-align: right;\n",
       "    }\n",
       "</style>\n",
       "<table border=\"1\" class=\"dataframe\">\n",
       "  <thead>\n",
       "    <tr style=\"text-align: right;\">\n",
       "      <th></th>\n",
       "      <th>support</th>\n",
       "      <th>itemsets</th>\n",
       "    </tr>\n",
       "  </thead>\n",
       "  <tbody>\n",
       "    <tr>\n",
       "      <th>0</th>\n",
       "      <td>0.036170</td>\n",
       "      <td>( SET 2 TEA TOWELS I LOVE LONDON )</td>\n",
       "    </tr>\n",
       "    <tr>\n",
       "      <th>1</th>\n",
       "      <td>0.027660</td>\n",
       "      <td>(10 COLOUR SPACEBOY PEN)</td>\n",
       "    </tr>\n",
       "    <tr>\n",
       "      <th>2</th>\n",
       "      <td>0.021277</td>\n",
       "      <td>(12 PENCIL SMALL TUBE WOODLAND)</td>\n",
       "    </tr>\n",
       "    <tr>\n",
       "      <th>3</th>\n",
       "      <td>0.034043</td>\n",
       "      <td>(12 PENCILS SMALL TUBE RED RETROSPOT)</td>\n",
       "    </tr>\n",
       "    <tr>\n",
       "      <th>4</th>\n",
       "      <td>0.029787</td>\n",
       "      <td>(12 PENCILS SMALL TUBE SKULL)</td>\n",
       "    </tr>\n",
       "    <tr>\n",
       "      <th>...</th>\n",
       "      <td>...</td>\n",
       "      <td>...</td>\n",
       "    </tr>\n",
       "    <tr>\n",
       "      <th>1040</th>\n",
       "      <td>0.031915</td>\n",
       "      <td>(WOODEN PICTURE FRAME WHITE FINISH, WHITE META...</td>\n",
       "    </tr>\n",
       "    <tr>\n",
       "      <th>1041</th>\n",
       "      <td>0.034043</td>\n",
       "      <td>(WOOD 2 DRAWER CABINET WHITE FINISH, WOOD S/3 ...</td>\n",
       "    </tr>\n",
       "    <tr>\n",
       "      <th>1042</th>\n",
       "      <td>0.031915</td>\n",
       "      <td>(WOODEN PICTURE FRAME WHITE FINISH, WOOD S/3 C...</td>\n",
       "    </tr>\n",
       "    <tr>\n",
       "      <th>1043</th>\n",
       "      <td>0.034043</td>\n",
       "      <td>(WOODEN PICTURE FRAME WHITE FINISH, WOOD 2 DRA...</td>\n",
       "    </tr>\n",
       "    <tr>\n",
       "      <th>1044</th>\n",
       "      <td>0.031915</td>\n",
       "      <td>(WOODEN PICTURE FRAME WHITE FINISH, WOOD S/3 C...</td>\n",
       "    </tr>\n",
       "  </tbody>\n",
       "</table>\n",
       "<p>1045 rows × 2 columns</p>\n",
       "</div>"
      ],
      "text/plain": [
       "       support                                           itemsets\n",
       "0     0.036170                 ( SET 2 TEA TOWELS I LOVE LONDON )\n",
       "1     0.027660                           (10 COLOUR SPACEBOY PEN)\n",
       "2     0.021277                    (12 PENCIL SMALL TUBE WOODLAND)\n",
       "3     0.034043              (12 PENCILS SMALL TUBE RED RETROSPOT)\n",
       "4     0.029787                      (12 PENCILS SMALL TUBE SKULL)\n",
       "...        ...                                                ...\n",
       "1040  0.031915  (WOODEN PICTURE FRAME WHITE FINISH, WHITE META...\n",
       "1041  0.034043  (WOOD 2 DRAWER CABINET WHITE FINISH, WOOD S/3 ...\n",
       "1042  0.031915  (WOODEN PICTURE FRAME WHITE FINISH, WOOD S/3 C...\n",
       "1043  0.034043  (WOODEN PICTURE FRAME WHITE FINISH, WOOD 2 DRA...\n",
       "1044  0.031915  (WOODEN PICTURE FRAME WHITE FINISH, WOOD S/3 C...\n",
       "\n",
       "[1045 rows x 2 columns]"
      ]
     },
     "execution_count": 20,
     "metadata": {},
     "output_type": "execute_result"
    }
   ],
   "source": [
    "frequent_itemsets"
   ]
  },
  {
   "cell_type": "code",
   "execution_count": 21,
   "id": "f39607a1-e607-442b-acca-b9e86d0fe37b",
   "metadata": {},
   "outputs": [],
   "source": [
    "# Method #2 Apyori"
   ]
  },
  {
   "cell_type": "code",
   "execution_count": 21,
   "id": "588825e7-b370-4cee-b294-99f41ad7e2d8",
   "metadata": {},
   "outputs": [],
   "source": [
    "basket = (retail.groupby(['InvoiceNo', 'Description']).first())"
   ]
  },
  {
   "cell_type": "code",
   "execution_count": 22,
   "id": "9c070301-4c86-4a7a-89e8-97d76d2dd0e5",
   "metadata": {},
   "outputs": [],
   "source": [
    "combinations = basket.index.to_numpy()"
   ]
  },
  {
   "cell_type": "code",
   "execution_count": 23,
   "id": "769653c0-4c7d-4cba-ba5c-f2dadc31e495",
   "metadata": {},
   "outputs": [],
   "source": [
    "elemDict = {}\n",
    "for elem in combinations:\n",
    "    if elem[0] in elemDict and type(elem[1]) == str:\n",
    "        elemDict[elem[0]].append(elem[1])\n",
    "    elif type(elem[1]) == str:\n",
    "        elemDict[elem[0]] = [elem[1]]"
   ]
  },
  {
   "cell_type": "code",
   "execution_count": 24,
   "id": "cf4f0633-e811-4cf2-b526-ab9c8dca760e",
   "metadata": {},
   "outputs": [],
   "source": [
    "productsBought = list(elemDict.values())"
   ]
  },
  {
   "cell_type": "code",
   "execution_count": 25,
   "id": "c5c13c75-da4b-42ec-906e-40e22f159dc0",
   "metadata": {},
   "outputs": [],
   "source": [
    "from apyori import apriori"
   ]
  },
  {
   "cell_type": "code",
   "execution_count": null,
   "id": "d33fe426-a702-4cba-a428-29cef41fbc5d",
   "metadata": {},
   "outputs": [],
   "source": [
    "results = list(apriori(productsBought, min_support = 0.02, min_confidence = 0.8))"
   ]
  },
  {
   "cell_type": "code",
   "execution_count": null,
   "id": "904d2b7a-0092-4e79-9944-64407ff6dc78",
   "metadata": {},
   "outputs": [],
   "source": [
    "results = pd.DataFrame(results)"
   ]
  },
  {
   "cell_type": "code",
   "execution_count": null,
   "id": "d8a40084-93c9-4524-bc1e-0db302aad1c3",
   "metadata": {},
   "outputs": [],
   "source": [
    "results"
   ]
  },
  {
   "cell_type": "code",
   "execution_count": null,
   "id": "be2ecb16-9c17-4329-b8b4-dbdc9671e34b",
   "metadata": {},
   "outputs": [],
   "source": [
    "results['ordered_statistics'][0]"
   ]
  },
  {
   "cell_type": "code",
   "execution_count": null,
   "id": "a03c8be2-8148-4d4b-8e71-c2c6733b7d6a",
   "metadata": {},
   "outputs": [],
   "source": []
  }
 ],
 "metadata": {
  "kernelspec": {
   "display_name": "Python 3",
   "language": "python",
   "name": "python3"
  },
  "language_info": {
   "codemirror_mode": {
    "name": "ipython",
    "version": 3
   },
   "file_extension": ".py",
   "mimetype": "text/x-python",
   "name": "python",
   "nbconvert_exporter": "python",
   "pygments_lexer": "ipython3",
   "version": "3.8.8"
  }
 },
 "nbformat": 4,
 "nbformat_minor": 5
}
