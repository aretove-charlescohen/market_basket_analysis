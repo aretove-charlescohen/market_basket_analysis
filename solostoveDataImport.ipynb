{
 "cells": [
  {
   "cell_type": "code",
   "execution_count": 10,
   "id": "0bacabcc-9e8f-436c-80e4-d2a1f7ad9c31",
   "metadata": {},
   "outputs": [],
   "source": [
    "import pandas as pd\n",
    "import numpy as np\n",
    "import matplotlib as plt\n",
    "from mlxtend.frequent_patterns import apriori, association_rules\n",
    "import mysql.connector\n",
    "import gender_guesser.detector as gender"
   ]
  },
  {
   "cell_type": "code",
   "execution_count": 11,
   "id": "9e1aac78-d3ff-472a-acb1-371021019635",
   "metadata": {},
   "outputs": [],
   "source": [
    "def solostove_data_import():\n",
    "    \"\"\"\n",
    "    Imports data from bc_staging Solostove database for use in market basket analysis.\n",
    "    \"\"\"\n",
    "    username_entered = input('Enter username:')\n",
    "    password_entered = input('Enter password:')\n",
    "    connection = mysql.connector.connect(host='ss-ods-1.cluster-cf8yoeuctpvr.us-east-1.rds.amazonaws.com', database='bc_staging', user= username_entered, password = password_entered)\n",
    "    data = pd.read_sql(\"\"\"SELECT vom.order_id, vopm.name, vom.billing_address_state, vom.billing_address_first_name, vom.is_first_order FROM vw_orders_mba vom, vw_order_products_mba vopm \n",
    "        WHERE vom.order_id = vopm.order_id ORDER BY vom.order_id DESC LIMIT 500000\"\"\", con = connection)\n",
    "    connection.close()\n",
    "    return data"
   ]
  },
  {
   "cell_type": "code",
   "execution_count": 12,
   "id": "c6c55070-cb55-4b80-ba5a-4527761b4ec0",
   "metadata": {},
   "outputs": [],
   "source": [
    "def solostove_data_preprocessing(data):\n",
    "    \"\"\"\n",
    "    Data preprocessing for Solostove data\n",
    "    Inputs:\n",
    "    data -> Pandas DataFrame with following form\n",
    "        Cols -> order_id, name\n",
    "        Rows -> Represent purchase of product, with order_id and the product's name\n",
    "    Outputs:\n",
    "    orders_binary -> Pandas DataFrame with following form.\n",
    "        Cols: column for each product name\n",
    "        Rows: Represent an order, with True for products in order and False for products not in an order.\n",
    "    \"\"\"\n",
    "    def sale_remove(name):\n",
    "        return name.rpartition(' (')[0]\n",
    "    def extra_space_remove(name):\n",
    "        return name[:-1]\n",
    "    def encode_units(x):\n",
    "        if x <= 0:\n",
    "            return False\n",
    "        if x >= 1:\n",
    "            return True\n",
    "    d = gender.Detector(case_sensitive=False)\n",
    "    # Removes shipping insurance rows\n",
    "    data = data[data['name'] != 'Route Shipping Insurance']\n",
    "    # Removes rows with damage\n",
    "    data = data[data['name'].str.contains('Dented') == False]\n",
    "    # Simplifies gift card rows to one product type\n",
    "    data.loc[data['name'].str.contains('Gift'),'name'] = 'Gift Card'\n",
    "    # Removes shipping dates\n",
    "    data.loc[data['name'].str.contains(' \\('),'name'] = data.loc[data['name'].str.contains(' \\('),'name'].apply(sale_remove)\n",
    "    # Removes extra spaces\n",
    "    data.loc[data['name'].str[-1] == ' ', 'name'] = data.loc[data['name'].str[-1] == ' ', 'name'].apply(extra_space_remove)\n",
    "    \n",
    "    \n",
    "    data['bought'] = 1\n",
    "    orders = data.groupby(['order_id', 'name'])['bought'].sum().unstack().reset_index().fillna(0).set_index('order_id')\n",
    "    \n",
    "    orders_binary = orders.applymap(encode_units)\n",
    "    return orders_binary"
   ]
  },
  {
   "cell_type": "code",
   "execution_count": 13,
   "id": "8cfcba5c-0fc3-4c67-865d-8316421fa259",
   "metadata": {},
   "outputs": [],
   "source": [
    "def market_basket_analysis(orders_binary):\n",
    "    \"\"\"\n",
    "    Performs market basket analysis on the given dataset, outputing the most common combinations of products bought.\n",
    "    Inputs: \n",
    "    \n",
    "    data -> Pandas DataFrame with following form.\n",
    "        Cols: column for each product name\n",
    "        Rows: Represent an order, with True for products in order and False for products not in an order.\n",
    "    \n",
    "    Outputs:\n",
    "    \n",
    "    Tuple with two DataFrames, rules and frequent_itemsets\n",
    "    rules -> Pandas DataFrame with associations between antecedents and consequents, along with statisitics for each pairing\n",
    "        Antecedents and consequents are the names of products involved in comparison\n",
    "    frequent_itemsets -> Pandas DataFrame representing the most common combinations of products ordered.\n",
    "        Includes a set of the item, as well as the probability of that order and the number of items in that order.\n",
    "    \"\"\"\n",
    "    frequent_itemsets = apriori(orders_binary, min_support=0.001, use_colnames=True, max_len = 2)\n",
    "    frequent_itemsets['length'] = frequent_itemsets['itemsets'].apply(lambda x: len(x))\n",
    "    rules = association_rules(frequent_itemsets, metric=\"lift\", min_threshold=1)\n",
    "    \n",
    "    return (rules, frequent_itemsets)"
   ]
  },
  {
   "cell_type": "code",
   "execution_count": 14,
   "id": "a9bf2027-1e06-4fc9-8749-1c675f394f2e",
   "metadata": {},
   "outputs": [],
   "source": [
    "def solostove_data_postprocessing(outputs):\n",
    "    \"\"\"\n",
    "    Takes association rules and frequent purchase DataFrames, outputing most useful representation of data for Solostove.\n",
    "    Inputs:\n",
    "    outputs -> tuple of size 2\n",
    "        element 1 -> rules\n",
    "            Pandas DataFrame with associations between antecedents and consequents, along with statisitics for each pairing\n",
    "        element 2 -> frequent itemsets\n",
    "            Pandas DataFrame representing the most common combinations of products ordered.\n",
    "    Outputs:\n",
    "    recommendations -> Pandas DataFrame representing the products most likely to be paired with each product.\n",
    "        Includes lift and support metrics\n",
    "            Lift -> Measures the probability of the two items being ordered together relative to the probabilty of the two items being ordered\n",
    "            Support -> Measures the probability of the two items being ordered together\n",
    "    \"\"\"\n",
    "    rules = outputs[0]\n",
    "    frequent_itemsets = outputs[1]\n",
    "    rules['antecedents'] = rules['antecedents'].apply(lambda x: ', '.join(list(x))).astype('unicode')\n",
    "    rules['consequents'] = rules['consequents'].apply(lambda x: ', '.join(list(x))).astype('unicode')\n",
    "    \n",
    "    recommended = rules.groupby(['antecedents', 'consequents'])[['lift', 'support']].first()\n",
    "    recommended = recommended.sort_values(by = 'support', ascending = False)#level = 'antecedents', sort_remaining = False)\n",
    "    recommended['set'] = recommended.index\n",
    "    recommended['set'] = recommended['set'].apply(lambda x: frozenset(x))\n",
    "    recommended = recommended.drop_duplicates(subset = 'set')\n",
    "    frequent_itemsets['itemsets'] = frequent_itemsets['itemsets'].apply(lambda x: ', '.join(list(x))).astype('unicode')\n",
    "    frequent_itemsets = frequent_itemsets.set_index('itemsets')\n",
    "    frequent_itemsets = frequent_itemsets.sort_values(by = 'support', ascending = False)\n",
    "    return (recommended, frequent_itemsets)"
   ]
  },
  {
   "cell_type": "code",
   "execution_count": 15,
   "id": "78992661-a7f6-47a0-b584-dc3b0e93e8a4",
   "metadata": {},
   "outputs": [
    {
     "name": "stdin",
     "output_type": "stream",
     "text": [
      "Enter username: \n",
      "Enter password: \n"
     ]
    },
    {
     "ename": "ProgrammingError",
     "evalue": "1045 (28000): Access denied for user 'CORP\\jamison'@'54.197.71.94' (using password: NO)",
     "output_type": "error",
     "traceback": [
      "\u001b[0;31m---------------------------------------------------------------------------\u001b[0m",
      "\u001b[0;31mMySQLInterfaceError\u001b[0m                       Traceback (most recent call last)",
      "\u001b[0;32m~/anaconda3/lib/python3.8/site-packages/mysql/connector/connection_cext.py\u001b[0m in \u001b[0;36m_open_connection\u001b[0;34m(self)\u001b[0m\n\u001b[1;32m    231\u001b[0m         \u001b[0;32mtry\u001b[0m\u001b[0;34m:\u001b[0m\u001b[0;34m\u001b[0m\u001b[0;34m\u001b[0m\u001b[0m\n\u001b[0;32m--> 232\u001b[0;31m             \u001b[0mself\u001b[0m\u001b[0;34m.\u001b[0m\u001b[0m_cmysql\u001b[0m\u001b[0;34m.\u001b[0m\u001b[0mconnect\u001b[0m\u001b[0;34m(\u001b[0m\u001b[0;34m**\u001b[0m\u001b[0mcnx_kwargs\u001b[0m\u001b[0;34m)\u001b[0m\u001b[0;34m\u001b[0m\u001b[0;34m\u001b[0m\u001b[0m\n\u001b[0m\u001b[1;32m    233\u001b[0m         \u001b[0;32mexcept\u001b[0m \u001b[0mMySQLInterfaceError\u001b[0m \u001b[0;32mas\u001b[0m \u001b[0mexc\u001b[0m\u001b[0;34m:\u001b[0m\u001b[0;34m\u001b[0m\u001b[0;34m\u001b[0m\u001b[0m\n",
      "\u001b[0;31mMySQLInterfaceError\u001b[0m: Access denied for user 'CORP\\jamison'@'54.197.71.94' (using password: NO)",
      "\nDuring handling of the above exception, another exception occurred:\n",
      "\u001b[0;31mProgrammingError\u001b[0m                          Traceback (most recent call last)",
      "\u001b[0;32m<ipython-input-15-1e12b703ec0e>\u001b[0m in \u001b[0;36m<module>\u001b[0;34m\u001b[0m\n\u001b[0;32m----> 1\u001b[0;31m \u001b[0mdata\u001b[0m \u001b[0;34m=\u001b[0m \u001b[0msolostove_data_import\u001b[0m\u001b[0;34m(\u001b[0m\u001b[0;34m)\u001b[0m\u001b[0;34m\u001b[0m\u001b[0;34m\u001b[0m\u001b[0m\n\u001b[0m",
      "\u001b[0;32m<ipython-input-11-66ae487fa33f>\u001b[0m in \u001b[0;36msolostove_data_import\u001b[0;34m()\u001b[0m\n\u001b[1;32m      5\u001b[0m     \u001b[0musername_entered\u001b[0m \u001b[0;34m=\u001b[0m \u001b[0minput\u001b[0m\u001b[0;34m(\u001b[0m\u001b[0;34m'Enter username:'\u001b[0m\u001b[0;34m)\u001b[0m\u001b[0;34m\u001b[0m\u001b[0;34m\u001b[0m\u001b[0m\n\u001b[1;32m      6\u001b[0m     \u001b[0mpassword_entered\u001b[0m \u001b[0;34m=\u001b[0m \u001b[0minput\u001b[0m\u001b[0;34m(\u001b[0m\u001b[0;34m'Enter password:'\u001b[0m\u001b[0;34m)\u001b[0m\u001b[0;34m\u001b[0m\u001b[0;34m\u001b[0m\u001b[0m\n\u001b[0;32m----> 7\u001b[0;31m     \u001b[0mconnection\u001b[0m \u001b[0;34m=\u001b[0m \u001b[0mmysql\u001b[0m\u001b[0;34m.\u001b[0m\u001b[0mconnector\u001b[0m\u001b[0;34m.\u001b[0m\u001b[0mconnect\u001b[0m\u001b[0;34m(\u001b[0m\u001b[0mhost\u001b[0m\u001b[0;34m=\u001b[0m\u001b[0;34m'ss-ods-1.cluster-cf8yoeuctpvr.us-east-1.rds.amazonaws.com'\u001b[0m\u001b[0;34m,\u001b[0m \u001b[0mdatabase\u001b[0m\u001b[0;34m=\u001b[0m\u001b[0;34m'bc_staging'\u001b[0m\u001b[0;34m,\u001b[0m \u001b[0muser\u001b[0m\u001b[0;34m=\u001b[0m \u001b[0musername_entered\u001b[0m\u001b[0;34m,\u001b[0m \u001b[0mpassword\u001b[0m \u001b[0;34m=\u001b[0m \u001b[0mpassword_entered\u001b[0m\u001b[0;34m)\u001b[0m\u001b[0;34m\u001b[0m\u001b[0;34m\u001b[0m\u001b[0m\n\u001b[0m\u001b[1;32m      8\u001b[0m     data = pd.read_sql(\"\"\"SELECT vom.order_id, vopm.name, vom.billing_address_state, vom.billing_address_first_name, vom.is_first_order FROM vw_orders_mba vom, vw_order_products_mba vopm \n\u001b[1;32m      9\u001b[0m         WHERE vom.order_id = vopm.order_id ORDER BY vom.order_id DESC LIMIT 500000\"\"\", con = connection)\n",
      "\u001b[0;32m~/anaconda3/lib/python3.8/site-packages/mysql/connector/__init__.py\u001b[0m in \u001b[0;36mconnect\u001b[0;34m(*args, **kwargs)\u001b[0m\n\u001b[1;32m    270\u001b[0m \u001b[0;34m\u001b[0m\u001b[0m\n\u001b[1;32m    271\u001b[0m     \u001b[0;32mif\u001b[0m \u001b[0mHAVE_CEXT\u001b[0m \u001b[0;32mand\u001b[0m \u001b[0;32mnot\u001b[0m \u001b[0muse_pure\u001b[0m\u001b[0;34m:\u001b[0m\u001b[0;34m\u001b[0m\u001b[0;34m\u001b[0m\u001b[0m\n\u001b[0;32m--> 272\u001b[0;31m         \u001b[0;32mreturn\u001b[0m \u001b[0mCMySQLConnection\u001b[0m\u001b[0;34m(\u001b[0m\u001b[0;34m*\u001b[0m\u001b[0margs\u001b[0m\u001b[0;34m,\u001b[0m \u001b[0;34m**\u001b[0m\u001b[0mkwargs\u001b[0m\u001b[0;34m)\u001b[0m\u001b[0;34m\u001b[0m\u001b[0;34m\u001b[0m\u001b[0m\n\u001b[0m\u001b[1;32m    273\u001b[0m     \u001b[0;32mreturn\u001b[0m \u001b[0mMySQLConnection\u001b[0m\u001b[0;34m(\u001b[0m\u001b[0;34m*\u001b[0m\u001b[0margs\u001b[0m\u001b[0;34m,\u001b[0m \u001b[0;34m**\u001b[0m\u001b[0mkwargs\u001b[0m\u001b[0;34m)\u001b[0m\u001b[0;34m\u001b[0m\u001b[0;34m\u001b[0m\u001b[0m\n\u001b[1;32m    274\u001b[0m \u001b[0mConnect\u001b[0m \u001b[0;34m=\u001b[0m \u001b[0mconnect\u001b[0m  \u001b[0;31m# pylint: disable=C0103\u001b[0m\u001b[0;34m\u001b[0m\u001b[0;34m\u001b[0m\u001b[0m\n",
      "\u001b[0;32m~/anaconda3/lib/python3.8/site-packages/mysql/connector/connection_cext.py\u001b[0m in \u001b[0;36m__init__\u001b[0;34m(self, **kwargs)\u001b[0m\n\u001b[1;32m     83\u001b[0m \u001b[0;34m\u001b[0m\u001b[0m\n\u001b[1;32m     84\u001b[0m         \u001b[0;32mif\u001b[0m \u001b[0mkwargs\u001b[0m\u001b[0;34m:\u001b[0m\u001b[0;34m\u001b[0m\u001b[0;34m\u001b[0m\u001b[0m\n\u001b[0;32m---> 85\u001b[0;31m             \u001b[0mself\u001b[0m\u001b[0;34m.\u001b[0m\u001b[0mconnect\u001b[0m\u001b[0;34m(\u001b[0m\u001b[0;34m**\u001b[0m\u001b[0mkwargs\u001b[0m\u001b[0;34m)\u001b[0m\u001b[0;34m\u001b[0m\u001b[0;34m\u001b[0m\u001b[0m\n\u001b[0m\u001b[1;32m     86\u001b[0m \u001b[0;34m\u001b[0m\u001b[0m\n\u001b[1;32m     87\u001b[0m     \u001b[0;32mdef\u001b[0m \u001b[0m_add_default_conn_attrs\u001b[0m\u001b[0;34m(\u001b[0m\u001b[0mself\u001b[0m\u001b[0;34m)\u001b[0m\u001b[0;34m:\u001b[0m\u001b[0;34m\u001b[0m\u001b[0;34m\u001b[0m\u001b[0m\n",
      "\u001b[0;32m~/anaconda3/lib/python3.8/site-packages/mysql/connector/abstracts.py\u001b[0m in \u001b[0;36mconnect\u001b[0;34m(self, **kwargs)\u001b[0m\n\u001b[1;32m   1001\u001b[0m \u001b[0;34m\u001b[0m\u001b[0m\n\u001b[1;32m   1002\u001b[0m         \u001b[0mself\u001b[0m\u001b[0;34m.\u001b[0m\u001b[0mdisconnect\u001b[0m\u001b[0;34m(\u001b[0m\u001b[0;34m)\u001b[0m\u001b[0;34m\u001b[0m\u001b[0;34m\u001b[0m\u001b[0m\n\u001b[0;32m-> 1003\u001b[0;31m         \u001b[0mself\u001b[0m\u001b[0;34m.\u001b[0m\u001b[0m_open_connection\u001b[0m\u001b[0;34m(\u001b[0m\u001b[0;34m)\u001b[0m\u001b[0;34m\u001b[0m\u001b[0;34m\u001b[0m\u001b[0m\n\u001b[0m\u001b[1;32m   1004\u001b[0m         \u001b[0;31m# Server does not allow to run any other statement different from ALTER\u001b[0m\u001b[0;34m\u001b[0m\u001b[0;34m\u001b[0m\u001b[0;34m\u001b[0m\u001b[0m\n\u001b[1;32m   1005\u001b[0m         \u001b[0;31m# when user's password has been expired.\u001b[0m\u001b[0;34m\u001b[0m\u001b[0;34m\u001b[0m\u001b[0;34m\u001b[0m\u001b[0m\n",
      "\u001b[0;32m~/anaconda3/lib/python3.8/site-packages/mysql/connector/connection_cext.py\u001b[0m in \u001b[0;36m_open_connection\u001b[0;34m(self)\u001b[0m\n\u001b[1;32m    232\u001b[0m             \u001b[0mself\u001b[0m\u001b[0;34m.\u001b[0m\u001b[0m_cmysql\u001b[0m\u001b[0;34m.\u001b[0m\u001b[0mconnect\u001b[0m\u001b[0;34m(\u001b[0m\u001b[0;34m**\u001b[0m\u001b[0mcnx_kwargs\u001b[0m\u001b[0;34m)\u001b[0m\u001b[0;34m\u001b[0m\u001b[0;34m\u001b[0m\u001b[0m\n\u001b[1;32m    233\u001b[0m         \u001b[0;32mexcept\u001b[0m \u001b[0mMySQLInterfaceError\u001b[0m \u001b[0;32mas\u001b[0m \u001b[0mexc\u001b[0m\u001b[0;34m:\u001b[0m\u001b[0;34m\u001b[0m\u001b[0;34m\u001b[0m\u001b[0m\n\u001b[0;32m--> 234\u001b[0;31m             raise errors.get_mysql_exception(msg=exc.msg, errno=exc.errno,\n\u001b[0m\u001b[1;32m    235\u001b[0m                                              sqlstate=exc.sqlstate)\n\u001b[1;32m    236\u001b[0m \u001b[0;34m\u001b[0m\u001b[0m\n",
      "\u001b[0;31mProgrammingError\u001b[0m: 1045 (28000): Access denied for user 'CORP\\jamison'@'54.197.71.94' (using password: NO)"
     ]
    }
   ],
   "source": [
    "data = solostove_data_import()"
   ]
  },
  {
   "cell_type": "code",
   "execution_count": null,
   "id": "f9a613ac-b4aa-4734-8655-5d43129f526f",
   "metadata": {},
   "outputs": [],
   "source": [
    "recommended, frequent_itemsets = solostove_data_postprocessing(market_basket_analysis(solostove_data_preprocessing(data)))"
   ]
  },
  {
   "cell_type": "code",
   "execution_count": null,
   "id": "8b112286-3c96-43de-b57b-0dded57049ec",
   "metadata": {},
   "outputs": [],
   "source": [
    "recommended"
   ]
  }
 ],
 "metadata": {
  "kernelspec": {
   "display_name": "Python 3",
   "language": "python",
   "name": "python3"
  },
  "language_info": {
   "codemirror_mode": {
    "name": "ipython",
    "version": 3
   },
   "file_extension": ".py",
   "mimetype": "text/x-python",
   "name": "python",
   "nbconvert_exporter": "python",
   "pygments_lexer": "ipython3",
   "version": "3.8.8"
  }
 },
 "nbformat": 4,
 "nbformat_minor": 5
}
